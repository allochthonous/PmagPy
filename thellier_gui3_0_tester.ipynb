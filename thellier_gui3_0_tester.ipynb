{
 "cells": [
  {
   "cell_type": "code",
   "execution_count": 1,
   "metadata": {
    "collapsed": true
   },
   "outputs": [],
   "source": [
    "import programs.new_builder as nb\n",
    "from pmagpy import ipmag\n",
    "import os\n",
    "import json\n",
    "import numpy as np\n",
    "import sys\n",
    "\n",
    "import pandas as pd\n",
    "from pandas import DataFrame\n",
    "from pmagpy import builder\n",
    "from pmagpy import validate_upload\n",
    "from pmagpy import pmag\n",
    "\n",
    "reload(nb)\n",
    "\n",
    "pmagpy_dir = os.path.join(os.getcwd(), 'pmagpy')\n",
    "if pmagpy_dir not in sys.path:\n",
    "    sys.path.append(pmagpy_dir)\n",
    "    \n",
    "WD = os.path.join(os.getcwd(), \"3_0\", \"McMurdo\")\n"
   ]
  },
  {
   "cell_type": "code",
   "execution_count": 2,
   "metadata": {
    "collapsed": false
   },
   "outputs": [
    {
     "data": {
      "text/html": [
       "<div>\n",
       "<table border=\"1\" class=\"dataframe\">\n",
       "  <thead>\n",
       "    <tr style=\"text-align: right;\">\n",
       "      <th></th>\n",
       "      <th>aniso_s</th>\n",
       "    </tr>\n",
       "    <tr>\n",
       "      <th>specimen</th>\n",
       "      <th></th>\n",
       "    </tr>\n",
       "  </thead>\n",
       "  <tbody>\n",
       "    <tr>\n",
       "      <th>mc121d1</th>\n",
       "      <td>0.29925 : 0.346846 : 0.353904 : -0.001806 : -0...</td>\n",
       "    </tr>\n",
       "    <tr>\n",
       "      <th>mc121d1</th>\n",
       "      <td>None</td>\n",
       "    </tr>\n",
       "    <tr>\n",
       "      <th>mc121d1</th>\n",
       "      <td>None</td>\n",
       "    </tr>\n",
       "    <tr>\n",
       "      <th>mc01a</th>\n",
       "      <td>None</td>\n",
       "    </tr>\n",
       "    <tr>\n",
       "      <th>mc01a</th>\n",
       "      <td>None</td>\n",
       "    </tr>\n",
       "  </tbody>\n",
       "</table>\n",
       "</div>"
      ],
      "text/plain": [
       "                                                    aniso_s\n",
       "specimen                                                   \n",
       "mc121d1   0.29925 : 0.346846 : 0.353904 : -0.001806 : -0...\n",
       "mc121d1                                                None\n",
       "mc121d1                                                None\n",
       "mc01a                                                  None\n",
       "mc01a                                                  None"
      ]
     },
     "execution_count": 2,
     "metadata": {},
     "output_type": "execute_result"
    }
   ],
   "source": [
    "# get specimen level data from specimen table\n",
    "contribution = nb.Contribution(WD, read_tables=['measurements', 'specimens', 'samples','sites'])\n",
    "if 'specimens' in contribution.tables:\n",
    "    spec_container = contribution.tables['specimens']\n",
    "    spec_data = spec_container.df\n",
    "spec_data.columns\n",
    "spec_data.loc[['mc121d1', 'mc01a']][['aniso_s']]"
   ]
  },
  {
   "cell_type": "code",
   "execution_count": 3,
   "metadata": {
    "collapsed": false
   },
   "outputs": [
    {
     "name": "stdout",
     "output_type": "stream",
     "text": [
      "update existing record mc121d1\n",
      "no record found - creating new one mc01a\n"
     ]
    },
    {
     "data": {
      "text/html": [
       "<div>\n",
       "<table border=\"1\" class=\"dataframe\">\n",
       "  <thead>\n",
       "    <tr style=\"text-align: right;\">\n",
       "      <th></th>\n",
       "      <th>specimen</th>\n",
       "      <th>aniso_s</th>\n",
       "      <th>num</th>\n",
       "    </tr>\n",
       "    <tr>\n",
       "      <th>specimen</th>\n",
       "      <th></th>\n",
       "      <th></th>\n",
       "      <th></th>\n",
       "    </tr>\n",
       "  </thead>\n",
       "  <tbody>\n",
       "    <tr>\n",
       "      <th>mc01a</th>\n",
       "      <td>mc01a</td>\n",
       "      <td>None</td>\n",
       "      <td>0</td>\n",
       "    </tr>\n",
       "    <tr>\n",
       "      <th>mc01a</th>\n",
       "      <td>mc01a</td>\n",
       "      <td>.3:.3:.3:0:0:0</td>\n",
       "      <td>1</td>\n",
       "    </tr>\n",
       "    <tr>\n",
       "      <th>mc01a</th>\n",
       "      <td>mc01a</td>\n",
       "      <td>None</td>\n",
       "      <td>2</td>\n",
       "    </tr>\n",
       "    <tr>\n",
       "      <th>mc121d1</th>\n",
       "      <td>mc121d1</td>\n",
       "      <td>None</td>\n",
       "      <td>283</td>\n",
       "    </tr>\n",
       "    <tr>\n",
       "      <th>mc121d1</th>\n",
       "      <td>mc121d1</td>\n",
       "      <td>.3:.3:.3:0:0:0</td>\n",
       "      <td>284</td>\n",
       "    </tr>\n",
       "    <tr>\n",
       "      <th>mc121d1</th>\n",
       "      <td>mc121d1</td>\n",
       "      <td>None</td>\n",
       "      <td>285</td>\n",
       "    </tr>\n",
       "  </tbody>\n",
       "</table>\n",
       "</div>"
      ],
      "text/plain": [
       "         specimen         aniso_s  num\n",
       "specimen                              \n",
       "mc01a       mc01a            None    0\n",
       "mc01a       mc01a  .3:.3:.3:0:0:0    1\n",
       "mc01a       mc01a            None    2\n",
       "mc121d1   mc121d1            None  283\n",
       "mc121d1   mc121d1  .3:.3:.3:0:0:0  284\n",
       "mc121d1   mc121d1            None  285"
      ]
     },
     "execution_count": 3,
     "metadata": {},
     "output_type": "execute_result"
    }
   ],
   "source": [
    "# find the record of a particular specimen.  if it already has aniso data, then modify in place\n",
    "# otherwise add a new record and modify that....    \n",
    "specimen = 'mc121d1' # a specimen with aniso data\n",
    "new_s = '.3:.3:.3:0:0:0'\n",
    "\n",
    "# add numeric index column temporarily\n",
    "spec_data['num'] = range(len(spec_data))\n",
    "\n",
    "# iterate through specimen names and update or add anisotropy data\n",
    "for spec in [specimen, \"mc01a\"]:\n",
    "    # match specimen name\n",
    "    cond1 = spec_data['specimen'].str.contains(spec) == True\n",
    "    # anisotropy data is present\n",
    "    cond2 = spec_data['aniso_s'].notnull() == True\n",
    "    cond = (cond1 & cond2)\n",
    "    if len(spec_data[cond]) > 0:\n",
    "        print 'update existing record', spec\n",
    "        # get list of all rows for which both conditions are true\n",
    "        inds = spec_data[cond]['num']\n",
    "        # in case there are multiple anisotropy rows for a specimen, update each row\n",
    "        for ind in inds:\n",
    "            # get pre-existing data from that row\n",
    "            existing_data = dict(spec_data.iloc[ind])\n",
    "            # add to existing_data with values from new_data\n",
    "            new_data = {'aniso_s': new_s, 'specimen': spec}\n",
    "            existing_data.update(new_data)\n",
    "            # update row\n",
    "            spec_container.update_row(ind, existing_data)\n",
    "    else:\n",
    "        print 'no record found - creating new one', spec\n",
    "        # add new row\n",
    "        spec_container.add_row(spec, {'aniso_s': new_s, 'specimen': spec})\n",
    "\n",
    "\n",
    "# sort so that all rows for a specimen are together\n",
    "spec_data.sort_index(inplace=True)\n",
    "# redo temporary index\n",
    "spec_data['num'] = range(len(spec_data))\n",
    "\n",
    "# see all records for mc01a & mc121d1 \n",
    "# now includes 1 new anisotropy record for mc01a, and 1 updated record for mc121d1\n",
    "spec_data.loc[['mc01a', specimen]][['specimen', 'aniso_s', 'num']]"
   ]
  },
  {
   "cell_type": "code",
   "execution_count": 4,
   "metadata": {
    "collapsed": false
   },
   "outputs": [],
   "source": [
    "## original way:\n",
    "#spec_data['aniso_s']=np.where(spec_data['specimen'].str.contains(specimen) & spec_data['aniso_s'].notnull(), new_s,spec_data['aniso_s'])\n",
    "#spec_data['specimen'].str.contains(specimen) & spec_data['aniso_s'].notnull()"
   ]
  }
 ],
 "metadata": {
  "kernelspec": {
   "display_name": "Python 2",
   "language": "python",
   "name": "python2"
  },
  "language_info": {
   "codemirror_mode": {
    "name": "ipython",
    "version": 2
   },
   "file_extension": ".py",
   "mimetype": "text/x-python",
   "name": "python",
   "nbconvert_exporter": "python",
   "pygments_lexer": "ipython2",
   "version": "2.7.10"
  }
 },
 "nbformat": 4,
 "nbformat_minor": 0
}
