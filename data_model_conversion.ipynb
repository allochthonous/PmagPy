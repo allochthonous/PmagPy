{
 "cells": [
  {
   "cell_type": "code",
   "execution_count": 1,
   "metadata": {
    "collapsed": false
   },
   "outputs": [],
   "source": [
    "import pmagpy.new_builder as nb\n",
    "from pmagpy import ipmag\n",
    "import os\n",
    "import json\n",
    "import numpy as np\n",
    "import sys\n",
    "\n",
    "import pandas as pd\n",
    "from pandas import DataFrame\n",
    "from pmagpy import builder\n",
    "from pmagpy import validate_upload2 as validate_upload\n",
    "from pmagpy import pmag\n",
    "from SPD.mapping import map_magic\n",
    "from pmagpy import pmag\n",
    "\n",
    "reload(nb)\n",
    "reload(map_magic)\n",
    "\n",
    "pmagpy_dir = os.path.join(os.getcwd(), 'pmagpy')\n",
    "if pmagpy_dir not in sys.path:\n",
    "    sys.path.append(pmagpy_dir)\n",
    "    \n",
    "\n",
    "WD = os.path.join(os.getcwd(), \"2_5\", \"McMurdo\")"
   ]
  },
  {
   "cell_type": "code",
   "execution_count": 2,
   "metadata": {
    "collapsed": false
   },
   "outputs": [
    {
     "name": "stdout",
     "output_type": "stream",
     "text": [
      "['f', 'F', 'A', 'WD', 'ID', 'Fsa', 'Fsi'] 7\n",
      "-I- using default for arg: F\n",
      "-\n",
      "-I- using default for arg: A\n",
      "-\n",
      "-I- using default for arg: Fsa\n",
      "-\n",
      "-I- using default for arg: Fsi\n",
      "-\n",
      "-I- using default for arg: O\n",
      "-\n",
      "1  records written to file  2_5/McMurdo/er_locations.txt\n",
      "140  records written to file  2_5/McMurdo/er_sites.txt\n",
      "1418  records written to file  2_5/McMurdo/er_samples.txt\n",
      "1046  records written to file  2_5/McMurdo/er_specimens.txt\n",
      "99  records written to file  2_5/McMurdo/er_ages.txt\n",
      "31  records written to file  2_5/McMurdo/er_citations.txt\n",
      "4  records written to file  2_5/McMurdo/er_mailinglist.txt\n",
      "431  records written to file  2_5/McMurdo/er_images.txt\n",
      "25470  records written to file  2_5/McMurdo/magic_measurements.txt\n",
      "1313  records written to file  2_5/McMurdo/pmag_specimens.txt\n",
      "207  records written to file  2_5/McMurdo/pmag_sites.txt\n",
      "177  records written to file  2_5/McMurdo/pmag_results.txt\n",
      "8  records written to file  2_5/McMurdo/pmag_criteria.txt\n",
      "10  records written to file  2_5/McMurdo/rmag_hysteresis.txt\n",
      "19  records written to file  2_5/McMurdo/rmag_anisotropy.txt\n",
      "19  records written to file  2_5/McMurdo/rmag_results.txt\n",
      "46  records written to file  2_5/McMurdo/magic_methods.txt\n"
     ]
    }
   ],
   "source": [
    "# convert magic_measurements to measurements (3.0)\n",
    "# first unpack lawrence et al., 2009 datafile from MagIC \n",
    "\n",
    "!download_magic.py -f zmab0100049tmp03.txt -WD 2_5/McMurdo -ID 2_5/McMurdo"
   ]
  },
  {
   "cell_type": "code",
   "execution_count": 3,
   "metadata": {
    "collapsed": false
   },
   "outputs": [
    {
     "name": "stdout",
     "output_type": "stream",
     "text": [
      "magic_measurements 25470\n"
     ]
    }
   ],
   "source": [
    "# read in data model 2.5 measruements file\n",
    "data2,filetype= pmag.magic_read(WD+'/magic_measurements.txt') \n",
    "print filetype, len(data2)"
   ]
  },
  {
   "cell_type": "code",
   "execution_count": 4,
   "metadata": {
    "collapsed": false
   },
   "outputs": [],
   "source": [
    "def flip_dict(dict):\n",
    "    newdict={}\n",
    "    for key in dict:\n",
    "        val=dict[key]\n",
    "        newdict[val]=key\n",
    "    return newdict"
   ]
  },
  {
   "cell_type": "code",
   "execution_count": 5,
   "metadata": {
    "collapsed": false
   },
   "outputs": [
    {
     "name": "stdout",
     "output_type": "stream",
     "text": [
      "{'treatment_ac_field': 'treat_ac_field', 'measurement_number': 'number', 'treatment_dc_field_theta': 'treat_dc_field_theta', 'er_site_name': 'site', 'er_sample_name': 'sample', 'treatment_dc_field_phi': 'treat_dc_field_phi', 'measurement_magn_volume': 'magn_volume', 'magic_instrument_codes': 'instrument_codes', 'measurement_description': 'description', 'er_location_name': 'location', 'measurement_dec': 'dir_dec', 'measurement_flag': 'flag', 'measurement_magn_moment': 'magn_moment', 'measurement_inc': 'dir_inc', 'treatment_temp': 'treat_temp', 'er_specimen_name': 'specimen', 'measurement_csd': 'dir_csd', 'treatment_dc_field': 'treat_dc_field', 'measurement_magn_mass': 'magn_mass', 'magic_method_codes': 'method_codes'}\n"
     ]
    }
   ],
   "source": [
    "spec3_spec2={'int_drats': 'specimen_drats', 'site': 'er_site_name', 'int_mad': 'specimen_int_mad', 'sample': 'er_sample_name', 'measurement_step_max': 'meas_step_max', 'specimen_n': 'dir_n_measurements', 'int_n_measurements': 'specimen_int_n', 'int_corr': 'specimen_correction', 'int_rsc': 'specimen_rsc', 'analyst_names': 'er_analyst_mail_names', 'int_scat': 'specimen_scat', 'int_ptrm_n': 'specimen_int_ptrm_n', 'citations': 'er_citation_names', 'int_gmax': 'specimen_gmax', 'int_dang': 'specimen_int_dang', 'dir_tilt_correction': 'specimen_tilt_correction', 'location': 'er_location_name', 'dir_comp': 'specimen_comp_name', 'specimen_magn_moment': 'magn_moment', 'int_w': 'specimen_w', 'specimen': 'er_specimen_name', 'int_q': 'specimen_q', 'int_fvds': 'specimen_fvds', 'specimen_mad': 'dir_mad_free', 'int_frac': 'specimen_frac', 'meas_step_min': 'measurement_step_min', 'int_f': 'specimen_f', 'software_packages': 'magic_software_packages', 'dir_mad_free': 'specimen_mad', 'magn_moment': 'specimen_magn_moment', 'instrument_codes': 'magic_instrument_codes', 'int_b_beta': 'specimen_b_beta', 'dir_n_comps': 'specimen_comp_n', 'int_md': 'specimen_md', 'dir_n_measurements': 'specimen_n', 'dir_inc': 'specimen_inc', 'specimen_magn_volumn': 'magn_volumn', 'meas_step_max': 'measurement_step_max', 'dir_alpha95': 'specimen_alpha95', 'magn_volumne': 'specimen_magn_volumn', 'measurement_step_min': 'meas_step_min', 'meas_step_unit': 'measurement_step_unit', 'dir_dec': 'specimen_dec', 'method_codes': 'magic_method_codes', 'result_quality': 'specimen_flag', 'dir_dang': 'specimen_dang'} \n",
    "site3_site2={'int_abs_sigma' : 'site_int_sigma', 'int_abs_sigma_perc' : 'site_int_sigma_perc', 'int_n_samples' : 'site_int_n', 'dir_alpha95' : 'site_alpha95', 'dir_k' : 'site_k', 'dir_n_samples' : 'site_n', 'dir_n_specimens_lines' : 'site_n_lines', 'dir_n_specimens_planes' : 'site_n_planes', 'dir_r' : 'site_r'}\n",
    "aniso3_aniso2={'specimen':'er_specimen_name', 'aniso_type':'anisotropy_type', 'description':'result_description', 'aniso_ftest':'anisotropy_ftest', 'aniso_ftest12':'anisotropy_ftest12', 'aniso_ftest23':'anisotropy_ftest23', 'aniso_s_mean':'anisotropy_mean', 'aniso_s_n_measurements':'anisotropy_n', 'aniso_s_sigma':'anisotropy_sigma', 'aniso_s_unit':'anisotropy_unit', 'aniso_tilt_correction':'anisotropy_tilt_correction'}\n",
    "\n",
    "samp3_samp2 = {'int_n_specimens' : 'sample_int_n', 'int_abs_sigma' : 'sample_int_sigma', 'int_abs_sigma_perc' : 'sample_int_sigma_perc', 'dir_alpha95' : 'sample_alpha95', 'dir_n_specimens' : 'sample_n', 'dir_n_specimens_lines' : 'sample_n_lines', 'dir_n_specimens_planes' : 'sample_n_planes', 'dir_k' : 'sample_k', 'dir_r' : 'sample_r'}\n",
    "meas3_meas2={'treat_dc_field_theta': 'treatment_dc_field_theta', 'sample': 'er_sample_name', 'treat_dc_field': 'treatment_dc_field', 'instrument_codes': 'magic_instrument_codes', 'description': 'measurement_description', 'magn_volume': 'measurement_magn_volume', 'specimen': 'er_specimen_name', 'treat_dc_field_phi': 'treatment_dc_field_phi', 'number': 'measurement_number', 'site': 'er_site_name', 'treat_ac_field': 'treatment_ac_field', 'flag': 'measurement_flag', 'dir_inc': 'measurement_inc', 'location': 'er_location_name', 'dir_dec': 'measurement_dec', 'method_codes': 'magic_method_codes', 'treat_temp': 'treatment_temp', 'magn_moment': 'measurement_magn_moment', 'magn_mass': 'measurement_magn_mass', 'dir_csd': 'measurement_csd'}\n",
    "\n",
    "\n",
    "print flip_dict(meas3_meas2)\n"
   ]
  },
  {
   "cell_type": "code",
   "execution_count": 6,
   "metadata": {
    "collapsed": false
   },
   "outputs": [
    {
     "name": "stdout",
     "output_type": "stream",
     "text": [
      "25470  records written to file  /Users/nebula/Python/PmagPy/2_5/McMurdo/measurements.txt\n"
     ]
    },
    {
     "data": {
      "text/plain": [
       "(True, '/Users/nebula/Python/PmagPy/2_5/McMurdo/measurements.txt')"
      ]
     },
     "execution_count": 6,
     "metadata": {},
     "output_type": "execute_result"
    }
   ],
   "source": [
    "NewMeas,NewSpec,NewSamp,NewSite=[],[],[],[]\n",
    "# step through records\n",
    "\n",
    "for rec in data2: NewMeas.\n",
    "    append(map_magic.convert_meas('magic3',rec))\n",
    "pmag.magic_write(WD+'/measurements.txt',NewMeas,'measurements')"
   ]
  },
  {
   "cell_type": "markdown",
   "metadata": {
    "collapsed": true
   },
   "source": [
    "## Put some functionality into pmag.py/new_builder"
   ]
  },
  {
   "cell_type": "code",
   "execution_count": 7,
   "metadata": {
    "collapsed": false
   },
   "outputs": [
    {
     "data": {
      "text/plain": [
       "<module 'pmagpy.new_builder' from 'pmagpy/new_builder.pyc'>"
      ]
     },
     "execution_count": 7,
     "metadata": {},
     "output_type": "execute_result"
    }
   ],
   "source": [
    "reload(nb)"
   ]
  },
  {
   "cell_type": "code",
   "execution_count": 8,
   "metadata": {
    "collapsed": true
   },
   "outputs": [],
   "source": [
    "WD = \"/Users/nebula/Desktop/MagIC_experiments/untitled_folder\"\n",
    "WD = os.path.join(os.getcwd(), \"3_0\", \"McMurdo2.5\")"
   ]
  },
  {
   "cell_type": "code",
   "execution_count": 9,
   "metadata": {
    "collapsed": false
   },
   "outputs": [
    {
     "name": "stdout",
     "output_type": "stream",
     "text": [
      "25470  records written to file  /Users/nebula/Python/PmagPy/3_0/McMurdo2.5/measurements.txt\n",
      "-I- 3.0. format measurements file was successfully created: /Users/nebula/Python/PmagPy/3_0/McMurdo2.5/measurements.txt\n"
     ]
    }
   ],
   "source": [
    "new_meas = pmag.convert2_3(\"magic_measurements.txt\", WD, WD)"
   ]
  },
  {
   "cell_type": "code",
   "execution_count": 10,
   "metadata": {
    "collapsed": false
   },
   "outputs": [
    {
     "name": "stdout",
     "output_type": "stream",
     "text": [
      "-I- Importing controlled vocabularies from https://earthref.org\n",
      "-W- No such file: /Users/nebula/Python/PmagPy/3_0/McMurdo2.5/specimens.txt\n",
      "-W- No such file: /Users/nebula/Python/PmagPy/3_0/McMurdo2.5/samples.txt\n",
      "-W- No such file: /Users/nebula/Python/PmagPy/3_0/McMurdo2.5/sites.txt\n",
      "-W- No such file: /Users/nebula/Python/PmagPy/3_0/McMurdo2.5/locations.txt\n",
      "-W- No such file: /Users/nebula/Python/PmagPy/3_0/McMurdo2.5/contribution.txt\n",
      "-W- No such file: /Users/nebula/Python/PmagPy/3_0/McMurdo2.5/criteria.txt\n",
      "-W- No such file: /Users/nebula/Python/PmagPy/3_0/McMurdo2.5/ages.txt\n",
      "-W- No such file: /Users/nebula/Python/PmagPy/3_0/McMurdo2.5/images.txt\n"
     ]
    },
    {
     "data": {
      "text/html": [
       "<div>\n",
       "<table border=\"1\" class=\"dataframe\">\n",
       "  <thead>\n",
       "    <tr style=\"text-align: right;\">\n",
       "      <th></th>\n",
       "      <th>sample</th>\n",
       "      <th>site</th>\n",
       "    </tr>\n",
       "  </thead>\n",
       "  <tbody>\n",
       "    <tr>\n",
       "      <th>mc01f</th>\n",
       "      <td>mc01f</td>\n",
       "      <td>mc01</td>\n",
       "    </tr>\n",
       "    <tr>\n",
       "      <th>mc02c</th>\n",
       "      <td>mc02c</td>\n",
       "      <td>mc02</td>\n",
       "    </tr>\n",
       "    <tr>\n",
       "      <th>mc02e</th>\n",
       "      <td>mc02e</td>\n",
       "      <td>mc02</td>\n",
       "    </tr>\n",
       "    <tr>\n",
       "      <th>mc02g</th>\n",
       "      <td>mc02g</td>\n",
       "      <td>mc02</td>\n",
       "    </tr>\n",
       "    <tr>\n",
       "      <th>mc03b</th>\n",
       "      <td>mc03b</td>\n",
       "      <td>mc03</td>\n",
       "    </tr>\n",
       "  </tbody>\n",
       "</table>\n",
       "</div>"
      ],
      "text/plain": [
       "      sample  site\n",
       "mc01f  mc01f  mc01\n",
       "mc02c  mc02c  mc02\n",
       "mc02e  mc02e  mc02\n",
       "mc02g  mc02g  mc02\n",
       "mc03b  mc03b  mc03"
      ]
     },
     "execution_count": 10,
     "metadata": {},
     "output_type": "execute_result"
    }
   ],
   "source": [
    "con = nb.Contribution(WD)\n",
    "# take measurement table and create site-location tables\n",
    "con.propagate_measurement_info()\n",
    "con.tables['samples'].df.head()"
   ]
  },
  {
   "cell_type": "code",
   "execution_count": 11,
   "metadata": {
    "collapsed": false
   },
   "outputs": [
    {
     "data": {
      "text/html": [
       "<div>\n",
       "<table border=\"1\" class=\"dataframe\">\n",
       "  <thead>\n",
       "    <tr style=\"text-align: right;\">\n",
       "      <th></th>\n",
       "      <th>site</th>\n",
       "      <th>location</th>\n",
       "    </tr>\n",
       "  </thead>\n",
       "  <tbody>\n",
       "    <tr>\n",
       "      <th>mc01</th>\n",
       "      <td>mc01</td>\n",
       "      <td>McMurdo</td>\n",
       "    </tr>\n",
       "    <tr>\n",
       "      <th>mc02</th>\n",
       "      <td>mc02</td>\n",
       "      <td>McMurdo</td>\n",
       "    </tr>\n",
       "    <tr>\n",
       "      <th>mc03</th>\n",
       "      <td>mc03</td>\n",
       "      <td>McMurdo</td>\n",
       "    </tr>\n",
       "    <tr>\n",
       "      <th>mc04</th>\n",
       "      <td>mc04</td>\n",
       "      <td>McMurdo</td>\n",
       "    </tr>\n",
       "    <tr>\n",
       "      <th>mc06</th>\n",
       "      <td>mc06</td>\n",
       "      <td>McMurdo</td>\n",
       "    </tr>\n",
       "  </tbody>\n",
       "</table>\n",
       "</div>"
      ],
      "text/plain": [
       "      site location\n",
       "mc01  mc01  McMurdo\n",
       "mc02  mc02  McMurdo\n",
       "mc03  mc03  McMurdo\n",
       "mc04  mc04  McMurdo\n",
       "mc06  mc06  McMurdo"
      ]
     },
     "execution_count": 11,
     "metadata": {},
     "output_type": "execute_result"
    }
   ],
   "source": [
    "con.tables['sites'].df.head()"
   ]
  }
 ],
 "metadata": {
  "kernelspec": {
   "display_name": "Python 2",
   "language": "python",
   "name": "python2"
  },
  "language_info": {
   "codemirror_mode": {
    "name": "ipython",
    "version": 2
   },
   "file_extension": ".py",
   "mimetype": "text/x-python",
   "name": "python",
   "nbconvert_exporter": "python",
   "pygments_lexer": "ipython2",
   "version": "2.7.10"
  }
 },
 "nbformat": 4,
 "nbformat_minor": 0
}
